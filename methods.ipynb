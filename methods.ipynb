{
 "cells": [
  {
   "cell_type": "code",
   "execution_count": 1,
   "metadata": {},
   "outputs": [],
   "source": [
    "import numpy as np\n",
    "import pandas as pd\n",
    "import matplotlib.pyplot as plt\n",
    "import seaborn as sns"
   ]
  },
  {
   "cell_type": "markdown",
   "metadata": {},
   "source": [
    "# Exploratory Data Analysis\n",
    "## Good way to get a sense of the data before going more in depth. \n",
    "Load data\n"
   ]
  },
  {
   "cell_type": "code",
   "execution_count": 6,
   "metadata": {},
   "outputs": [
    {
     "data": {
      "text/html": [
       "<div>\n",
       "<style scoped>\n",
       "    .dataframe tbody tr th:only-of-type {\n",
       "        vertical-align: middle;\n",
       "    }\n",
       "\n",
       "    .dataframe tbody tr th {\n",
       "        vertical-align: top;\n",
       "    }\n",
       "\n",
       "    .dataframe thead th {\n",
       "        text-align: right;\n",
       "    }\n",
       "</style>\n",
       "<table border=\"1\" class=\"dataframe\">\n",
       "  <thead>\n",
       "    <tr style=\"text-align: right;\">\n",
       "      <th></th>\n",
       "      <th>ACREHOUS</th>\n",
       "      <th>CLASSWKR</th>\n",
       "      <th>COMMUSE</th>\n",
       "      <th>COSTELEC</th>\n",
       "      <th>COSTGAS</th>\n",
       "      <th>COSTWATR</th>\n",
       "      <th>EDUC</th>\n",
       "      <th>EMPSTAT</th>\n",
       "      <th>FOODSTMP</th>\n",
       "      <th>GRADEATT</th>\n",
       "      <th>...</th>\n",
       "      <th>HHINCOME</th>\n",
       "      <th>HHTYPE</th>\n",
       "      <th>LABFORCE</th>\n",
       "      <th>LOOKING</th>\n",
       "      <th>METRO</th>\n",
       "      <th>OWNERSHP</th>\n",
       "      <th>SCHOOL</th>\n",
       "      <th>STATEICP</th>\n",
       "      <th>UHRSWORK</th>\n",
       "      <th>WKSWORK2</th>\n",
       "    </tr>\n",
       "  </thead>\n",
       "  <tbody>\n",
       "    <tr>\n",
       "      <th>0</th>\n",
       "      <td>0</td>\n",
       "      <td>0</td>\n",
       "      <td>0</td>\n",
       "      <td>0.0</td>\n",
       "      <td>0.0</td>\n",
       "      <td>0.0</td>\n",
       "      <td>7</td>\n",
       "      <td>3.0</td>\n",
       "      <td>1</td>\n",
       "      <td>6</td>\n",
       "      <td>...</td>\n",
       "      <td>9999999.0</td>\n",
       "      <td>0.0</td>\n",
       "      <td>1</td>\n",
       "      <td>1</td>\n",
       "      <td>4.0</td>\n",
       "      <td>0</td>\n",
       "      <td>2</td>\n",
       "      <td>41.0</td>\n",
       "      <td>0.0</td>\n",
       "      <td>0</td>\n",
       "    </tr>\n",
       "    <tr>\n",
       "      <th>1</th>\n",
       "      <td>1</td>\n",
       "      <td>2</td>\n",
       "      <td>1</td>\n",
       "      <td>4200.0</td>\n",
       "      <td>9993.0</td>\n",
       "      <td>480.0</td>\n",
       "      <td>8</td>\n",
       "      <td>1.0</td>\n",
       "      <td>1</td>\n",
       "      <td>0</td>\n",
       "      <td>...</td>\n",
       "      <td>151000.0</td>\n",
       "      <td>1.0</td>\n",
       "      <td>2</td>\n",
       "      <td>3</td>\n",
       "      <td>0.0</td>\n",
       "      <td>1</td>\n",
       "      <td>1</td>\n",
       "      <td>41.0</td>\n",
       "      <td>40.0</td>\n",
       "      <td>6</td>\n",
       "    </tr>\n",
       "    <tr>\n",
       "      <th>2</th>\n",
       "      <td>1</td>\n",
       "      <td>1</td>\n",
       "      <td>1</td>\n",
       "      <td>4200.0</td>\n",
       "      <td>9993.0</td>\n",
       "      <td>480.0</td>\n",
       "      <td>6</td>\n",
       "      <td>1.0</td>\n",
       "      <td>1</td>\n",
       "      <td>0</td>\n",
       "      <td>...</td>\n",
       "      <td>151000.0</td>\n",
       "      <td>1.0</td>\n",
       "      <td>2</td>\n",
       "      <td>3</td>\n",
       "      <td>0.0</td>\n",
       "      <td>1</td>\n",
       "      <td>1</td>\n",
       "      <td>41.0</td>\n",
       "      <td>40.0</td>\n",
       "      <td>6</td>\n",
       "    </tr>\n",
       "    <tr>\n",
       "      <th>3</th>\n",
       "      <td>1</td>\n",
       "      <td>0</td>\n",
       "      <td>1</td>\n",
       "      <td>4200.0</td>\n",
       "      <td>9993.0</td>\n",
       "      <td>480.0</td>\n",
       "      <td>7</td>\n",
       "      <td>3.0</td>\n",
       "      <td>1</td>\n",
       "      <td>6</td>\n",
       "      <td>...</td>\n",
       "      <td>151000.0</td>\n",
       "      <td>1.0</td>\n",
       "      <td>1</td>\n",
       "      <td>1</td>\n",
       "      <td>0.0</td>\n",
       "      <td>1</td>\n",
       "      <td>2</td>\n",
       "      <td>41.0</td>\n",
       "      <td>0.0</td>\n",
       "      <td>0</td>\n",
       "    </tr>\n",
       "    <tr>\n",
       "      <th>4</th>\n",
       "      <td>1</td>\n",
       "      <td>0</td>\n",
       "      <td>1</td>\n",
       "      <td>4200.0</td>\n",
       "      <td>9993.0</td>\n",
       "      <td>480.0</td>\n",
       "      <td>7</td>\n",
       "      <td>3.0</td>\n",
       "      <td>1</td>\n",
       "      <td>6</td>\n",
       "      <td>...</td>\n",
       "      <td>151000.0</td>\n",
       "      <td>1.0</td>\n",
       "      <td>1</td>\n",
       "      <td>1</td>\n",
       "      <td>0.0</td>\n",
       "      <td>1</td>\n",
       "      <td>2</td>\n",
       "      <td>41.0</td>\n",
       "      <td>0.0</td>\n",
       "      <td>0</td>\n",
       "    </tr>\n",
       "  </tbody>\n",
       "</table>\n",
       "<p>5 rows × 21 columns</p>\n",
       "</div>"
      ],
      "text/plain": [
       "   ACREHOUS  CLASSWKR  COMMUSE  COSTELEC  COSTGAS  COSTWATR  EDUC  EMPSTAT  \\\n",
       "0         0         0        0       0.0      0.0       0.0     7      3.0   \n",
       "1         1         2        1    4200.0   9993.0     480.0     8      1.0   \n",
       "2         1         1        1    4200.0   9993.0     480.0     6      1.0   \n",
       "3         1         0        1    4200.0   9993.0     480.0     7      3.0   \n",
       "4         1         0        1    4200.0   9993.0     480.0     7      3.0   \n",
       "\n",
       "   FOODSTMP  GRADEATT  ...   HHINCOME  HHTYPE  LABFORCE  LOOKING  METRO  \\\n",
       "0         1         6  ...  9999999.0     0.0         1        1    4.0   \n",
       "1         1         0  ...   151000.0     1.0         2        3    0.0   \n",
       "2         1         0  ...   151000.0     1.0         2        3    0.0   \n",
       "3         1         6  ...   151000.0     1.0         1        1    0.0   \n",
       "4         1         6  ...   151000.0     1.0         1        1    0.0   \n",
       "\n",
       "   OWNERSHP  SCHOOL  STATEICP  UHRSWORK  WKSWORK2  \n",
       "0         0       2      41.0       0.0         0  \n",
       "1         1       1      41.0      40.0         6  \n",
       "2         1       1      41.0      40.0         6  \n",
       "3         1       2      41.0       0.0         0  \n",
       "4         1       2      41.0       0.0         0  \n",
       "\n",
       "[5 rows x 21 columns]"
      ]
     },
     "execution_count": 6,
     "metadata": {},
     "output_type": "execute_result"
    }
   ],
   "source": [
    "urlorpath = \"https://people.orie.cornell.edu/mru8/orie4741/data/acs_2013.csv\"\n",
    "data = pd.read_csv(urlorpath, nrows=10000)\n",
    "data.head()"
   ]
  },
  {
   "cell_type": "code",
   "execution_count": 7,
   "metadata": {},
   "outputs": [
    {
     "data": {
      "text/plain": [
       "(10000, 21)"
      ]
     },
     "execution_count": 7,
     "metadata": {},
     "output_type": "execute_result"
    }
   ],
   "source": [
    "#Example summary statistics\n",
    "\n",
    "#size of table\n",
    "data.shape"
   ]
  },
  {
   "cell_type": "code",
   "execution_count": 8,
   "metadata": {},
   "outputs": [
    {
     "data": {
      "text/plain": [
       "count    10000.000000\n",
       "mean      1579.260000\n",
       "std       3114.928718\n",
       "min          0.000000\n",
       "25%        150.000000\n",
       "50%        440.000000\n",
       "75%        780.000000\n",
       "max       9997.000000\n",
       "Name: COSTWATR, dtype: float64"
      ]
     },
     "execution_count": 8,
     "metadata": {},
     "output_type": "execute_result"
    }
   ],
   "source": [
    "#selecting a column can either be done by data['columnname'] or data.columnname\n",
    "#can calculate the mean, std, max, etc for each column \n",
    "data['COSTWATR'].describe()"
   ]
  },
  {
   "cell_type": "code",
   "execution_count": 11,
   "metadata": {},
   "outputs": [
    {
     "data": {
      "text/plain": [
       "0"
      ]
     },
     "execution_count": 11,
     "metadata": {},
     "output_type": "execute_result"
    }
   ],
   "source": [
    "#identify missing values \n",
    "sum(pd.isna(data['COSTWATR'])) #isna will return true for each row that is missing, sum will sum the rows"
   ]
  },
  {
   "cell_type": "code",
   "execution_count": 14,
   "metadata": {},
   "outputs": [
    {
     "data": {
      "text/plain": [
       "<AxesSubplot:>"
      ]
     },
     "execution_count": 14,
     "metadata": {},
     "output_type": "execute_result"
    },
    {
     "data": {
      "image/png": "[encoded data removed]",
      "text/plain": [
       "<Figure size 432x288 with 1 Axes>"
      ]
     },
     "metadata": {
      "needs_background": "light"
     },
     "output_type": "display_data"
    }
   ],
   "source": [
    "watrcost = data['COSTWATR']\n",
    "watrcost.hist(bins=100) #distribution of the water costs"
   ]
  },
  {
   "cell_type": "markdown",
   "metadata": {},
   "source": [
    "This histogram detects an significant outlier that could indicate the need for the data to be filtered further. "
   ]
  },
  {
   "cell_type": "code",
   "execution_count": 24,
   "metadata": {},
   "outputs": [
    {
     "data": {
      "text/plain": [
       "<AxesSubplot:>"
      ]
     },
     "execution_count": 24,
     "metadata": {},
     "output_type": "execute_result"
    },
    {
     "data": {
      "image/png": "[encoded data removed]",
      "text/plain": [
       "<Figure size 432x288 with 1 Axes>"
      ]
     },
     "metadata": {
      "needs_background": "light"
     },
     "output_type": "display_data"
    }
   ],
   "source": [
    "filteredwater = data.where(watrcost < 9988) #kinda random, maybe actually better to include but idk\n",
    "filteredwater['COSTWATR'].hist(bins=100)"
   ]
  },
  {
   "cell_type": "markdown",
   "metadata": {},
   "source": [
    "# Data filtering/scaling, Outlier treatment, Data processing, Data clustering\n",
    "\n",
    "## this is where we actually process the data to make training the model more straightforward. "
   ]
  },
  {
   "cell_type": "markdown",
   "metadata": {},
   "source": [
    "# Feature selection, Feature extraction\n",
    "## using the processed data, there are many ways to then consider which features will be actual useful in training the model such as PCA, F-score, MDI, etc"
   ]
  },
  {
   "cell_type": "markdown",
   "metadata": {},
   "source": [
    "# Model selection\n",
    "## this section will consider several different models with the pros and cons for each use\n",
    "\n",
    "## this section will go over ways of evaluating the models"
   ]
  }
 ],
 "metadata": {
  "interpreter": {
   "hash": "c83a6c6b325ebfa8f17f1fe863159bd4c2a2e34f137c8c10c39222a072dfe920"
  },
  "kernelspec": {
   "display_name": "Python 3.8.11 64-bit ('ORIE4741': conda)",
   "language": "python",
   "name": "python3"
  },
  "language_info": {
   "codemirror_mode": {
    "name": "ipython",
    "version": 3
   },
   "file_extension": ".py",
   "mimetype": "text/x-python",
   "name": "python",
   "nbconvert_exporter": "python",
   "pygments_lexer": "ipython3",
   "version": "3.8.11"
  },
  "orig_nbformat": 4
 },
 "nbformat": 4,
 "nbformat_minor": 2
}
